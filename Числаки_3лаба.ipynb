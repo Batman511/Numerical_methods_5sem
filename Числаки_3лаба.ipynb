{
  "nbformat": 4,
  "nbformat_minor": 0,
  "metadata": {
    "colab": {
      "name": "Числаки_3лаба.ipynb",
      "provenance": [],
      "collapsed_sections": [],
      "authorship_tag": "ABX9TyN7qk5cudCd/iPEVzI95yiR",
      "include_colab_link": true
    },
    "kernelspec": {
      "name": "python3",
      "display_name": "Python 3"
    },
    "language_info": {
      "name": "python"
    }
  },
  "cells": [
    {
      "cell_type": "markdown",
      "metadata": {
        "id": "view-in-github",
        "colab_type": "text"
      },
      "source": [
        "<a href=\"https://colab.research.google.com/github/Batman511/Numerical_methods_5sem/blob/main/%D0%A7%D0%B8%D1%81%D0%BB%D0%B0%D0%BA%D0%B8_3%D0%BB%D0%B0%D0%B1%D0%B0.ipynb\" target=\"_parent\"><img src=\"https://colab.research.google.com/assets/colab-badge.svg\" alt=\"Open In Colab\"/></a>"
      ]
    },
    {
      "cell_type": "code",
      "metadata": {
        "id": "WP21Rps9yscp"
      },
      "source": [
        "import numpy as np\n",
        "from matplotlib import pyplot as plt\n",
        "import pandas as pd"
      ],
      "execution_count": 1,
      "outputs": []
    },
    {
      "cell_type": "markdown",
      "metadata": {
        "id": "lCNRYjmZznci"
      },
      "source": [
        "# Численное интегрирование"
      ]
    },
    {
      "cell_type": "code",
      "metadata": {
        "colab": {
          "base_uri": "https://localhost:8080/",
          "height": 526
        },
        "id": "O1UyJMH2vrF9",
        "outputId": "dadc9f10-45ea-4780-8034-de23a5a25867"
      },
      "source": [
        "def function(x):\n",
        "  return np.tanh(x)\n",
        "\n",
        "N=12\n",
        "START=0\n",
        "FINISH=5\n",
        "\n",
        "start_x = np.linspace(START, FINISH, N)\n",
        "start_y = function( start_x )\n",
        "real_I = np.log( (np.e**5+np.e**(-5))/2 )\n",
        "\n",
        "df = pd.DataFrame({'start_x': start_x, 'start_y': start_y})\n",
        "print(df)\n",
        "\n",
        "ax = plt.subplot()\n",
        "ax.scatter(start_x, start_y, marker='o')\n",
        "\n",
        "# шаг и площадь\n",
        "h = (FINISH-START)/ (len(start_y)-1)\n",
        "print(\"Равномерный шаг = \",h,\"\\nРеальная площадь под графиком = \", real_I)"
      ],
      "execution_count": 3,
      "outputs": [
        {
          "output_type": "stream",
          "name": "stdout",
          "text": [
            "     start_x   start_y\n",
            "0   0.000000  0.000000\n",
            "1   0.454545  0.425628\n",
            "2   0.909091  0.720696\n",
            "3   1.363636  0.877234\n",
            "4   1.818182  0.948657\n",
            "5   2.272727  0.978992\n",
            "6   2.727273  0.991483\n",
            "7   3.181818  0.996560\n",
            "8   3.636364  0.998613\n",
            "9   4.090909  0.999441\n",
            "10  4.545455  0.999775\n",
            "11  5.000000  0.999909\n",
            "Равномерный шаг =  0.45454545454545453 \n",
            "Реальная площадь под графиком =  4.3068982183392714\n"
          ]
        },
        {
          "output_type": "display_data",
          "data": {
            "image/png": "[encoded data removed]",
            "text/plain": [
              "<Figure size 432x288 with 1 Axes>"
            ]
          },
          "metadata": {
            "needs_background": "light"
          }
        }
      ]
    },
    {
      "cell_type": "markdown",
      "metadata": {
        "id": "M65WT_gozuSS"
      },
      "source": [
        "Метод прямоугольников, трапеций и Симпсона"
      ]
    },
    {
      "cell_type": "code",
      "metadata": {
        "id": "kksUmxc39W4n"
      },
      "source": [
        "def interpol(x,y,t):\n",
        "  assert len(x) == len(y), 'x and y must have the same len'\n",
        "  assert len(x) != 0, 'x and y cannot be empty'\n",
        "  sum=0\n",
        "\n",
        "  for i in range(len(y)):\n",
        "    P1=1; P2=1\n",
        "    for j in range(len(y)):\n",
        "      if i!=j:\n",
        "        P1 = P1*(t-x[j])\n",
        "        P2 = P2*(x[i]-x[j])\n",
        "\n",
        "    sum+=y[i]*P1/P2\n",
        "  return sum  "
      ],
      "execution_count": 4,
      "outputs": []
    },
    {
      "cell_type": "code",
      "metadata": {
        "id": "iFtXjfA3ztzm"
      },
      "source": [
        "def I_rectangle(start_y):\n",
        "  h = FINISH/ (len(start_y)-1)\n",
        "  n=len(start_y)-1\n",
        "  I=0\n",
        "\n",
        "  for i in range(n):\n",
        "    I += h*start_y[i]\n",
        "  return I\n",
        "\n",
        "def I_trapezoid(start_y):\n",
        "  h = FINISH/ (len(start_y)-1)\n",
        "  n=len(start_y)-1\n",
        "  I=0\n",
        "\n",
        "  for i in range(n):\n",
        "    I += h*(start_y[i+1]+start_y[i])/2\n",
        "  return I\n",
        "\n",
        "def I_Simpson(start_y):\n",
        "  h = FINISH/ (len(start_y)-1)\n",
        "  N = len(start_y)\n",
        "  start_x = np.linspace(START, FINISH, N)\n",
        "  I=0\n",
        "\n",
        "  n_promej = N-1\n",
        "  for i in range(1, n_promej+1):\n",
        "    I += h*( start_y[i-1] + 4*( function( start_x[i-1] + h/2 ) ) + start_y[i] )/6\n",
        "  return I\n",
        "\n",
        "def I_Gauss(start_y):\n",
        "  h = FINISH/ (len(start_y)-1)\n",
        "  n=len(start_y)-1\n",
        "  I=0\n",
        "\n",
        "  for i in range(n):\n",
        "    I += h* (function( ((start_x[i+1] + start_x[i]) /2) - h/(2*np.sqrt(3)) ) \n",
        "          +  function( ((start_x[i+1] + start_x[i]) /2) + h/(2*np.sqrt(3)) )) /2\n",
        "  return I\n",
        "\n",
        "def I_3_8(start_y):\n",
        "  h = FINISH/ (len(start_y)-1)\n",
        "  n=len(start_y)-1\n",
        "  I=0\n",
        "\n",
        "  for i in range(n):\n",
        "    I += h* (function(start_x[i]) + 3*function((2*start_x[i] + start_x[i+1]) / 3) + 3*function((start_x[i] + 2*start_x[i+1]) / 3) + function(start_x[i+1])) / 8\n",
        "  return I\n",
        "\n",
        "\n",
        "  # if (N%2)==1:\n",
        "  #   n_promej = int((N-1)/2)\n",
        "  #   for i in range(1, n_promej+1):\n",
        "  #     j = 2*(i-1) + 1\n",
        "  #     I += h*( start_y[j-1] + 4*start_y[j] + start_y[j+1] )/3\n",
        "  #   return I\n",
        "  # else:\n",
        "  #   n_promej = N-1\n",
        "  #   for i in range(1, n_promej+1):\n",
        "  #     I += h*( start_y[i-1] + 4*( interpol(start_x, start_y, start_x[i-1] + h/2 ) ) + start_y[i] )/6\n",
        "  #   return I"
      ],
      "execution_count": 6,
      "outputs": []
    },
    {
      "cell_type": "markdown",
      "metadata": {
        "id": "v4wIpKEt5ywZ"
      },
      "source": [
        "Функция ошибки"
      ]
    },
    {
      "cell_type": "code",
      "metadata": {
        "colab": {
          "base_uri": "https://localhost:8080/"
        },
        "id": "9aeX_cw6RkpT",
        "outputId": "415c65c1-eeee-4782-8419-9ed1daf7b5cd"
      },
      "source": [
        "print('Метод прямоугольников:', I_rectangle(start_y), '\\nМетод трапеций:       ', I_trapezoid(start_y), '\\nМетод Симпсона:       ', I_Simpson(start_y),\n",
        "      '\\nМетод Гаусса:         ', I_Gauss(start_y),'\\nПравило 3/8:          ', I_3_8(start_y), \"\\n\\nreal integral:        \", real_I)\n"
      ],
      "execution_count": 7,
      "outputs": [
        {
          "output_type": "stream",
          "name": "stdout",
          "text": [
            "Метод прямоугольников: 4.062307838339187 \n",
            "Метод трапеций:        4.289559930217049 \n",
            "Метод Симпсона:        4.306929495000663 \n",
            "Метод Гаусса:          4.306877293742306 \n",
            "Правило 3/8:           4.3069120365055005 \n",
            "\n",
            "real integral:         4.3068982183392714\n"
          ]
        }
      ]
    },
    {
      "cell_type": "code",
      "metadata": {
        "colab": {
          "base_uri": "https://localhost:8080/",
          "height": 466
        },
        "id": "931CggmTk8Qz",
        "outputId": "083ab292-8e5e-4473-fdb3-9b0c1737f3f4"
      },
      "source": [
        "loss_rectangle=[]\n",
        "loss_trapezoid=[]\n",
        "loss_Simpson=[]\n",
        "loss_Gauss=[]\n",
        "loss_3_8=[]\n",
        "step =[]\n",
        "\n",
        "hrange = np.arange(0.002,0.1,0.001)\n",
        "for i in range(len(hrange)):\n",
        "  hh = hrange[i]\n",
        "  n = int((FINISH - START)//hh)\n",
        "  start_x = np.linspace(START, FINISH, n)\n",
        "  start_y = function( start_x )\n",
        "\n",
        "  step.append( (FINISH-START)/ (len(start_y)-1) )\n",
        "  loss_rectangle.append(np.abs(real_I - I_rectangle(start_y)))\n",
        "  loss_trapezoid.append(np.abs(real_I - I_trapezoid(start_y)))\n",
        "  loss_Simpson.append(np.abs(real_I - I_Simpson(start_y)))\n",
        "  loss_Gauss.append(np.abs(real_I - I_Gauss(start_y)))\n",
        "  loss_3_8.append(np.abs(real_I - I_3_8(start_y)))\n",
        "\n",
        "\n",
        "plt.figure(figsize=(10,7))\n",
        "plt.plot(step, loss_rectangle, 'r', label = 'метод прямоугольников')\n",
        "plt.plot(step, loss_trapezoid, 'b', label = 'метод трапеций')\n",
        "plt.plot(step, loss_Simpson, 'g', label = 'метод Симпсона')\n",
        "plt.plot(step, loss_Gauss, label = 'метод Гаусса')\n",
        "plt.plot(step, loss_3_8, label = 'Правило 3/8')\n",
        "plt.title(\"Зависимость ошибки от шага\")\n",
        "plt.grid(True)\n",
        "plt.yscale('log')\n",
        "plt.xscale('log')\n",
        "plt.legend(loc=4)\n"
      ],
      "execution_count": 9,
      "outputs": [
        {
          "output_type": "execute_result",
          "data": {
            "text/plain": [
              "<matplotlib.legend.Legend at 0x7f6d2aa48c50>"
            ]
          },
          "metadata": {},
          "execution_count": 9
        },
        {
          "output_type": "display_data",
          "data": {
            "image/png": "[encoded data removed]",
            "text/plain": [
              "<Figure size 720x504 with 1 Axes>"
            ]
          },
          "metadata": {
            "needs_background": "light"
          }
        }
      ]
    }
  ]
}